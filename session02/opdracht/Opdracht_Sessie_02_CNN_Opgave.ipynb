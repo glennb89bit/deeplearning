{
 "cells": [
  {
   "cell_type": "markdown",
   "metadata": {},
   "source": [
    "# Deep learning -  Opdracht sessie 02 - CNN\n",
    "\n",
    "## Doelstelling van de opdracht\n",
    "\n",
    "Op het vlak van image recognition zijn de convolutional neural networks (en varianten ervan) nagenoeg onovertroffen.\n",
    "In deze opdracht zullen ze worden ingezet voor het herkennen van kledij, gezichtsexpressies en tot slot bij een autodetectiesysteem. Bij het uitvoeren ervan zal je leren hoe deze CNN's werken en welke hyperparameters getuned moeten worden. Bovendien zal je werken met kleurafbeeldingen waardoor je 4D tensors bekomt (3D afbeeldingen + 1 dimensie voor alle gestackte afbeeldingen).\n",
    "Naast het trainen van een eigen ontworpen CNN zal je ook gebruik maken van pretrained netwerken en deze via transfer learning deels hertrainen in functie van jouw eigen classificatieprobleem."
   ]
  },
  {
   "cell_type": "code",
   "execution_count": 57,
   "metadata": {},
   "outputs": [],
   "source": [
    "%matplotlib inline\n",
    "\n",
    "import os\n",
    "\n",
    "import matplotlib.pyplot as plt\n",
    "import pandas as pd\n",
    "import numpy as np\n",
    "import seaborn as sns\n",
    "\n",
    "from sklearn.preprocessing import MinMaxScaler\n",
    "from sklearn.preprocessing import StandardScaler\n",
    "from sklearn.metrics import confusion_matrix,accuracy_score,RocCurveDisplay\n",
    "from sklearn.model_selection import train_test_split\n",
    "from sklearn.utils import shuffle\n",
    "from sklearn.metrics import classification_report,ConfusionMatrixDisplay\n",
    "from sklearn.metrics import confusion_matrix, accuracy_score\n",
    "from sklearn.preprocessing import OneHotEncoder\n",
    "from sklearn import preprocessing\n",
    "from sklearn.preprocessing import LabelBinarizer\n",
    "import matplotlib.image as mpimg\n",
    "from skimage.io import imread, imsave, imshow\n",
    "from skimage import data, color, io, filters, morphology,transform, exposure, feature, util\n",
    "from scipy import ndimage\n",
    "import sklearn.metrics as metrics\n",
    "from sklearn.utils import class_weight\n",
    "\n",
    "import tensorflow as tf\n",
    "from tensorflow.keras.models import Sequential\n",
    "from tensorflow.keras.layers import Activation\n",
    "from tensorflow.keras.optimizers import SGD\n",
    "from tensorflow.keras.layers import Dense, Dropout, Flatten\n",
    "from tensorflow.keras.layers import Conv2D, MaxPooling2D\n",
    "from tensorflow.keras.preprocessing import image\n",
    "from tensorflow.keras.models import Sequential\n",
    "from tensorflow.keras.layers import Dense, Dropout, Activation, BatchNormalization\n",
    "from tensorflow.keras.callbacks import EarlyStopping\n",
    "from tensorflow.keras.applications.vgg19 import VGG19\n",
    "from tensorflow.keras.applications.vgg19 import preprocess_input, decode_predictions\n",
    "from tensorflow.keras.preprocessing.text import Tokenizer\n",
    "from tensorflow.keras.utils import to_categorical\n",
    "\n",
    "import re\n",
    "\n",
    "#K.set_image_dim_ordering('tf')\n",
    "plt.rcParams['image.cmap'] = 'gray'\n",
    "pd.set_option('display.max_rows',1000)\n",
    "pd.set_option('display.max_columns',1000)\n",
    "\n",
    "\n",
    "# GPU support \n",
    "\n",
    "physical_devices = tf.config.experimental.list_physical_devices('GPU')\n",
    "tf.config.experimental.set_memory_growth(physical_devices[0], True)"
   ]
  },
  {
   "cell_type": "code",
   "execution_count": 31,
   "metadata": {},
   "outputs": [
    {
     "name": "stdout",
     "output_type": "stream",
     "text": [
      "Num GPUs Available:  1\n"
     ]
    }
   ],
   "source": [
    "import tensorflow as tf\n",
    "print(\"Num GPUs Available: \", len(tf.config.list_physical_devices('GPU')))\n"
   ]
  },
  {
   "cell_type": "markdown",
   "metadata": {},
   "source": [
    "## Malaria Classification\n",
    "\n",
    "Ontwerp en train een CNN dat is in staat is met Malaria geïnfecteerde cellen van niet-geïnfecteerde cellen te onderscheiden.\n",
    "\n",
    "De data is te vinden in:\n",
    "- './Malaria/train/infected/': afbeelding van met Malaria geïnfecteerde cellen om mee te trainen.\n",
    "- './Malaria/train/uninfected/': afbeeldingen van gezonde, niet-geïnfecteerde cellen om mee te trainen.\n",
    "- './Malaria/test/infected/': afbeelding van met Malaria geïnfecteerde cellen om mee te testen.\n",
    "- './Malaria/test/uninfected/': afbeeldingen van gezonde, niet-geïnfecteerde cellen om mee te testen.\n",
    "\n",
    "\n",
    "1. Ontwerp in eerste instantie een eigen CNN. \n",
    "- Probeer de accuracy van het CNN op de test data zo hoog mogelijk te krijgen. Dit kan bijvoorbeeld omvatten: hyperparameter tuning van de het netwerk zelf, early stopping, image augmentation of eigen bedachte (pre)-processing technieken. \n",
    "- Stel nu dat aan het CNN de vereiste wordt gesteld dat het aantal false negatives (het netwerk voorspelt niet-geïnfecteerd terwijl ze wel geïnfecteerd zijn) op de test set maximaal 1% mag bedragen. Welke aanpassingen zou je doen? Voor deze aanpassingen uit en toon aan dat het aantal false negatives tot maximum 1% is gezakt. Welke accuracy haal je nog?\n",
    "\n",
    "2. Voer transfer learning uit. Hertrain het VGG19 netwerk voor het classificeren van de al dan niet met Malaria geïnfecteerde cellen. Vergelijk de resultaten met deze van het eigen CNN in termen van accuraatheid, f1-score, snelheid van training, de benodigde hoeveelheid training data, etc.\n",
    "\n"
   ]
  },
  {
   "cell_type": "markdown",
   "metadata": {},
   "source": [
    "### Malaria detection via eigen CNN"
   ]
  },
  {
   "cell_type": "code",
   "execution_count": 86,
   "metadata": {},
   "outputs": [],
   "source": [
    "# Inlezen van de data\n",
    "\n",
    "# Lezen en preprocessen \n",
    "\n",
    "image_size = 75  # hoogte en breedte van de afbeeldingen na resizing. Pas gerust aan.\n",
    "nr_train_images = 15000  # Om het aantal afbeelding in de training set te beperken. Verhoog indien jouw systeem het toelaat.\n",
    "nr_test_images = 5000 # Om het aantal afbeelding in de test set in eerste instantiete beperken. \n",
    "infected_train_images = []\n",
    "infected_test_images = []\n",
    "uninfected_train_images = []\n",
    "uninfected_test_images = []\n",
    "y_infected_train = []\n",
    "y_uninfected_train = []\n",
    "y_infected_test = []\n",
    "y_uninfected_test =[]\n",
    "\n",
    "# read infected train_images\n",
    "path = './Malaria/train/infected/'\n",
    "valid_images = [\".jpg\",\".gif\",\".png\"]\n",
    "\n",
    "for f in os.listdir(path)[:nr_train_images]:\n",
    "    ext = os.path.splitext(f)[1]\n",
    "    if ext.lower() not in valid_images:\n",
    "        continue\n",
    "    im = imread(os.path.join(path,f)) \n",
    "    im = transform.resize(im,(image_size,image_size),mode='constant',anti_aliasing=True)\n",
    "    infected_train_images.append(im)\n",
    "    y_infected_train.append(1)\n",
    "    \n",
    "# read infected test_images\n",
    "\n",
    "path = './Malaria/test/infected/'\n",
    "valid_images = [\".jpg\",\".gif\",\".png\"]\n",
    "\n",
    "for f in os.listdir(path)[:nr_test_images]:\n",
    "    ext = os.path.splitext(f)[1]\n",
    "    if ext.lower() not in valid_images:\n",
    "        continue\n",
    "    im = imread(os.path.join(path,f))\n",
    "    im = transform.resize(im,(image_size,image_size),mode='constant',anti_aliasing=True)\n",
    "    infected_test_images.append(im)\n",
    "    y_infected_test.append(1)\n",
    "    \n",
    "\n",
    "# read uninfected train_images\n",
    "path = './Malaria/train/uninfected/'\n",
    "valid_images = [\".jpg\",\".gif\",\".png\"]\n",
    "\n",
    "for f in os.listdir(path)[:nr_train_images]:\n",
    "    ext = os.path.splitext(f)[1]\n",
    "    if ext.lower() not in valid_images:\n",
    "        continue\n",
    "    im = imread(os.path.join(path,f)) \n",
    "    im = transform.resize(im,(image_size,image_size),mode='constant',anti_aliasing=True)\n",
    "    uninfected_train_images.append(im)\n",
    "    y_uninfected_train.append(0)\n",
    "\n",
    "\n",
    "# read uninfected test_images\n",
    "\n",
    "path = './Malaria/test/uninfected/'\n",
    "valid_images = [\".jpg\",\".gif\",\".png\"]\n",
    "\n",
    "for f in os.listdir(path)[:nr_test_images]:\n",
    "    ext = os.path.splitext(f)[1]\n",
    "    if ext.lower() not in valid_images:\n",
    "        continue\n",
    "    im = imread(os.path.join(path,f)) \n",
    "    im = transform.resize(im,(image_size,image_size),mode='constant',anti_aliasing=True)\n",
    "    uninfected_test_images.append(im)\n",
    "    y_uninfected_test.append(0)"
   ]
  },
  {
   "cell_type": "code",
   "execution_count": 87,
   "metadata": {},
   "outputs": [
    {
     "name": "stdout",
     "output_type": "stream",
     "text": [
      "24633\n"
     ]
    }
   ],
   "source": [
    "# Uitwerking Malaria detectie\n",
    "X_train = np.array(infected_train_images + uninfected_train_images)\n",
    "X_test = np.array(infected_test_images + uninfected_test_images)\n",
    "y_train = np.array(y_infected_train + y_uninfected_train)\n",
    "y_test = np.array(y_infected_test + y_uninfected_test)\n",
    "print(len(y_train))"
   ]
  },
  {
   "cell_type": "code",
   "execution_count": 88,
   "metadata": {},
   "outputs": [
    {
     "name": "stdout",
     "output_type": "stream",
     "text": [
      "(24633, 75, 75, 3)\n"
     ]
    }
   ],
   "source": [
    "print(X_train.shape)"
   ]
  },
  {
   "cell_type": "code",
   "execution_count": 89,
   "metadata": {},
   "outputs": [
    {
     "data": {
      "image/png": "[encoded data removed]",
      "text/plain": [
       "<Figure size 432x288 with 1 Axes>"
      ]
     },
     "metadata": {
      "needs_background": "light"
     },
     "output_type": "display_data"
    }
   ],
   "source": [
    "imshow(X_train[1005])\n",
    "plt.axis('off');"
   ]
  },
  {
   "cell_type": "code",
   "execution_count": 90,
   "metadata": {},
   "outputs": [
    {
     "data": {
      "text/plain": [
       "array([[0.00000000e+00, 0.00000000e+00, 0.00000000e+00],\n",
       "       [0.00000000e+00, 0.00000000e+00, 0.00000000e+00],\n",
       "       [0.00000000e+00, 0.00000000e+00, 0.00000000e+00],\n",
       "       [0.00000000e+00, 0.00000000e+00, 0.00000000e+00],\n",
       "       [0.00000000e+00, 0.00000000e+00, 0.00000000e+00],\n",
       "       [0.00000000e+00, 0.00000000e+00, 0.00000000e+00],\n",
       "       [0.00000000e+00, 0.00000000e+00, 0.00000000e+00],\n",
       "       [0.00000000e+00, 0.00000000e+00, 0.00000000e+00],\n",
       "       [0.00000000e+00, 0.00000000e+00, 0.00000000e+00],\n",
       "       [0.00000000e+00, 0.00000000e+00, 0.00000000e+00],\n",
       "       [0.00000000e+00, 0.00000000e+00, 0.00000000e+00],\n",
       "       [0.00000000e+00, 0.00000000e+00, 0.00000000e+00],\n",
       "       [0.00000000e+00, 0.00000000e+00, 0.00000000e+00],\n",
       "       [0.00000000e+00, 0.00000000e+00, 0.00000000e+00],\n",
       "       [0.00000000e+00, 0.00000000e+00, 0.00000000e+00],\n",
       "       [0.00000000e+00, 0.00000000e+00, 0.00000000e+00],\n",
       "       [0.00000000e+00, 0.00000000e+00, 0.00000000e+00],\n",
       "       [0.00000000e+00, 0.00000000e+00, 0.00000000e+00],\n",
       "       [0.00000000e+00, 0.00000000e+00, 0.00000000e+00],\n",
       "       [0.00000000e+00, 0.00000000e+00, 0.00000000e+00],\n",
       "       [0.00000000e+00, 0.00000000e+00, 0.00000000e+00],\n",
       "       [0.00000000e+00, 0.00000000e+00, 0.00000000e+00],\n",
       "       [0.00000000e+00, 0.00000000e+00, 0.00000000e+00],\n",
       "       [0.00000000e+00, 0.00000000e+00, 0.00000000e+00],\n",
       "       [0.00000000e+00, 0.00000000e+00, 0.00000000e+00],\n",
       "       [0.00000000e+00, 0.00000000e+00, 0.00000000e+00],\n",
       "       [0.00000000e+00, 0.00000000e+00, 0.00000000e+00],\n",
       "       [0.00000000e+00, 0.00000000e+00, 0.00000000e+00],\n",
       "       [0.00000000e+00, 0.00000000e+00, 0.00000000e+00],\n",
       "       [0.00000000e+00, 0.00000000e+00, 0.00000000e+00],\n",
       "       [0.00000000e+00, 0.00000000e+00, 0.00000000e+00],\n",
       "       [0.00000000e+00, 0.00000000e+00, 0.00000000e+00],\n",
       "       [0.00000000e+00, 0.00000000e+00, 0.00000000e+00],\n",
       "       [0.00000000e+00, 0.00000000e+00, 0.00000000e+00],\n",
       "       [0.00000000e+00, 0.00000000e+00, 0.00000000e+00],\n",
       "       [1.28989981e-07, 0.00000000e+00, 1.01404123e-06],\n",
       "       [4.44602028e-06, 2.75762460e-07, 3.80121455e-05],\n",
       "       [8.73667091e-07, 1.69891646e-05, 1.71195206e-05],\n",
       "       [2.14911252e-05, 7.89993719e-05, 2.33572300e-05],\n",
       "       [1.26442726e-04, 1.23599762e-04, 6.41216975e-05],\n",
       "       [1.21462885e-02, 7.00029731e-03, 6.00104639e-03],\n",
       "       [1.59562916e-01, 1.11803032e-01, 1.14604510e-01],\n",
       "       [5.41579723e-01, 4.00275677e-01, 4.26307470e-01],\n",
       "       [7.70138919e-01, 5.50149977e-01, 5.96560299e-01],\n",
       "       [7.98457146e-01, 5.58629096e-01, 6.04576409e-01],\n",
       "       [7.86925733e-01, 5.46881557e-01, 6.00885749e-01],\n",
       "       [7.82398105e-01, 5.41290700e-01, 6.00180149e-01],\n",
       "       [7.76297987e-01, 5.36316395e-01, 5.94884455e-01],\n",
       "       [7.72861898e-01, 5.34722269e-01, 5.92998087e-01],\n",
       "       [7.64572024e-01, 5.29652596e-01, 5.86850762e-01],\n",
       "       [7.64334381e-01, 5.25332093e-01, 5.84073901e-01],\n",
       "       [7.73002207e-01, 5.33786535e-01, 5.92610061e-01],\n",
       "       [7.75228262e-01, 5.36012590e-01, 5.94836116e-01],\n",
       "       [7.70899415e-01, 5.31684577e-01, 5.90534389e-01],\n",
       "       [7.71236897e-01, 5.32068133e-01, 5.92310309e-01],\n",
       "       [7.69446015e-01, 5.30299902e-01, 5.91229796e-01],\n",
       "       [7.65161574e-01, 5.26015580e-01, 5.86947560e-01],\n",
       "       [7.63714850e-01, 5.24568558e-01, 5.85500419e-01],\n",
       "       [7.64501631e-01, 5.24841130e-01, 5.85519969e-01],\n",
       "       [7.72916973e-01, 5.30430496e-01, 5.89658022e-01],\n",
       "       [7.72013485e-01, 5.26220202e-01, 5.86555898e-01],\n",
       "       [7.80480683e-01, 5.30671895e-01, 5.92743099e-01],\n",
       "       [7.86232114e-01, 5.35851002e-01, 5.98029613e-01],\n",
       "       [7.92786479e-01, 5.42652190e-01, 5.98395228e-01],\n",
       "       [7.95897663e-01, 5.48572958e-01, 5.99350512e-01],\n",
       "       [7.69484997e-01, 5.45427859e-01, 5.88400602e-01],\n",
       "       [7.12405264e-01, 5.37815809e-01, 5.64624548e-01],\n",
       "       [4.60722595e-01, 3.40062857e-01, 3.53327930e-01],\n",
       "       [1.21413045e-01, 7.09347799e-02, 7.96423256e-02],\n",
       "       [2.59243827e-02, 1.77347511e-02, 1.76281650e-02],\n",
       "       [2.05690460e-03, 7.54413847e-03, 2.48943875e-03],\n",
       "       [4.84110042e-03, 1.23569299e-03, 5.02144976e-05],\n",
       "       [6.35817647e-03, 4.56536873e-06, 4.80153062e-07],\n",
       "       [2.86214799e-05, 0.00000000e+00, 0.00000000e+00],\n",
       "       [0.00000000e+00, 0.00000000e+00, 0.00000000e+00]], dtype=float32)"
      ]
     },
     "execution_count": 90,
     "metadata": {},
     "output_type": "execute_result"
    }
   ],
   "source": [
    "# Normalisatie\n",
    "X_train = X_train.astype('float32')\n",
    "X_test = X_test.astype('float32')\n",
    "X_train[1005][2]"
   ]
  },
  {
   "cell_type": "code",
   "execution_count": 91,
   "metadata": {},
   "outputs": [
    {
     "data": {
      "text/plain": [
       "array([[0., 1.],\n",
       "       [0., 1.],\n",
       "       [0., 1.],\n",
       "       ...,\n",
       "       [1., 0.],\n",
       "       [1., 0.],\n",
       "       [1., 0.]], dtype=float32)"
      ]
     },
     "execution_count": 91,
     "metadata": {},
     "output_type": "execute_result"
    }
   ],
   "source": [
    "y_train_ohe = to_categorical(y_train)\n",
    "y_train_ohe"
   ]
  },
  {
   "cell_type": "code",
   "execution_count": 92,
   "metadata": {},
   "outputs": [
    {
     "data": {
      "text/plain": [
       "(24633, 75, 75, 3)"
      ]
     },
     "execution_count": 92,
     "metadata": {},
     "output_type": "execute_result"
    }
   ],
   "source": [
    "X_train.shape"
   ]
  },
  {
   "cell_type": "code",
   "execution_count": 93,
   "metadata": {},
   "outputs": [],
   "source": [
    "def create_cnn(odim=y_train_ohe.shape[1],\n",
    "               img_rows = X_train.shape[1],\n",
    "               img_cols = X_train.shape[2],\n",
    "               img_chs = X_train.shape[3],\n",
    "               dropout = 0.2,\n",
    "               n_conv = 32,\n",
    "               kernel_size = (3, 3),\n",
    "               hidden_activation = 'relu',\n",
    "               pool_size = (2, 2),\n",
    "               batch_norm = 0,\n",
    "               neurons = 50,\n",
    "               final_activation = 'softmax',\n",
    "               loss = 'categorical_crossentropy',\n",
    "               optimizer = 'adam',\n",
    "               metric = 'accuracy'\n",
    "              ):\n",
    "    input_shape = (img_rows, img_cols, img_chs)\n",
    "    \n",
    "    # Model\n",
    "    model = Sequential()\n",
    "    \n",
    "    model.add(Conv2D(n_conv, kernel_size=kernel_size, activation=hidden_activation, input_shape=input_shape)) \n",
    "    model.add(MaxPooling2D(pool_size=pool_size))\n",
    "    model.add(Dropout(dropout)) # Value between 0 and 1 \n",
    "    if batch_norm == 1:\n",
    "        model.add(BatchNormalization())\n",
    "    \n",
    "    model.add(Conv2D(n_conv, kernel_size, activation=hidden_activation)) \n",
    "    model.add(MaxPooling2D(pool_size=pool_size))\n",
    "    model.add(Dropout(dropout)) # Value between 0 and 1 \n",
    "    if batch_norm == 1:\n",
    "        model.add(BatchNormalization())\n",
    "    \n",
    "    model.add(Flatten()) \n",
    "    model.add(Dense(neurons, activation=hidden_activation)) \n",
    "    model.add(Dropout(dropout)) # Value between 0 and 1 \n",
    "    \n",
    "    model.add(Dense(odim, activation=final_activation))\n",
    "    \n",
    "    model.compile(loss=loss,\n",
    "                  optimizer=optimizer,\n",
    "                  metrics=[metric])\n",
    "    \n",
    "    return model\n",
    "\n",
    "def model_history(epochs, metric1='loss', metric2='accuracy'):\n",
    "    metric1val = f'val_{metric1}'\n",
    "    metric2val = f'val_{metric2}'\n",
    "    epochlist = np.linspace(1, epochs, epochs)\n",
    "    \n",
    "    fig, (ax1, ax3) = plt.subplots(1, 2, figsize=(15,5))\n",
    "    fig.suptitle('History plots', size='xx-large')\n",
    "    colors = sns.color_palette()\n",
    "    \n",
    "    sns.lineplot(x=epochlist, y=history.history[metric1], color=colors[0], ax=ax1, label=metric1, legend=False)\n",
    "    ax1.title.set_text('Training error')\n",
    "    lines_1, labels_1 = ax1.get_legend_handles_labels()\n",
    "    ax2 = ax1.twinx()\n",
    "    sns.lineplot(x=epochlist, y=history.history[metric1val], color=colors[1], ax=ax2, label=metric1val, legend=False)\n",
    "    lines_2, labels_2 = ax2.get_legend_handles_labels()\n",
    "    lines_a = lines_1 + lines_2\n",
    "    labels_a = labels_1 + labels_2\n",
    "    ax2.legend(lines_a, labels_a, loc=0)\n",
    "    \n",
    "    sns.lineplot(x=epochlist, y=history.history[metric2], color=colors[0], ax=ax3, label=metric2, legend=False)\n",
    "    ax3.title.set_text('Accuracy')\n",
    "    lines_3, labels_3 = ax3.get_legend_handles_labels()\n",
    "    ax4 = ax3.twinx()\n",
    "    sns.lineplot(x=epochlist, y=history.history[metric2val], color=colors[1], ax=ax4, label=metric2val, legend=False);\n",
    "    lines_4, labels_4 = ax4.get_legend_handles_labels()\n",
    "    lines_b = lines_3 + lines_4\n",
    "    labels_b = labels_3 + labels_4\n",
    "    ax4.legend(lines_b, labels_b, loc=0)\n",
    "    \n",
    "    plt.show()\n",
    "\n",
    "def model_evaluation(estimator = create_cnn(), \n",
    "                     y_test = y_test,\n",
    "                     X_test = X_test,\n",
    "                     output_dim = y_train_ohe.shape[1]\n",
    "                    ):\n",
    "    \n",
    "    y_pred = np.argmax(model.predict(X_test), axis=-1)\n",
    "    \n",
    "    print('\\n')\n",
    "    print(classification_report(y_test, y_pred, zero_division=0))\n",
    "    print(f'Accuracy: \\t{accuracy_score(y_test, y_pred) * 100}%\\n')\n",
    "    ConfusionMatrixDisplay.from_predictions(y_test, y_pred)\n",
    "    plt.show()\n",
    "    \n",
    "    print('\\n')\n",
    "    if output_dim == 2:\n",
    "        RocCurveDisplay.from_predictions(y_test, y_pred, name='ROC Curve')\n",
    "        plt.show()\n",
    "    print('\\n')"
   ]
  },
  {
   "cell_type": "code",
   "execution_count": 94,
   "metadata": {},
   "outputs": [
    {
     "name": "stdout",
     "output_type": "stream",
     "text": [
      "Epoch 1/50\n",
      "1232/1232 [==============================] - 6s 5ms/step - loss: 0.5659 - accuracy: 0.7223 - val_loss: 0.5672 - val_accuracy: 0.6949\n",
      "Epoch 2/50\n",
      "1232/1232 [==============================] - 5s 4ms/step - loss: 0.4658 - accuracy: 0.7574 - val_loss: 0.5110 - val_accuracy: 0.8482\n",
      "Epoch 3/50\n",
      "1232/1232 [==============================] - 5s 4ms/step - loss: 0.3029 - accuracy: 0.8660 - val_loss: 0.3145 - val_accuracy: 0.9901\n",
      "Epoch 4/50\n",
      "1232/1232 [==============================] - 5s 4ms/step - loss: 0.2374 - accuracy: 0.9070 - val_loss: 0.2449 - val_accuracy: 0.9880\n",
      "Epoch 5/50\n",
      "1232/1232 [==============================] - 5s 4ms/step - loss: 0.2213 - accuracy: 0.9176 - val_loss: 0.1273 - val_accuracy: 0.9917\n",
      "Epoch 6/50\n",
      "1232/1232 [==============================] - 5s 4ms/step - loss: 0.2009 - accuracy: 0.9254 - val_loss: 0.2296 - val_accuracy: 0.9850\n",
      "Epoch 7/50\n",
      "1232/1232 [==============================] - 5s 4ms/step - loss: 0.1952 - accuracy: 0.9255 - val_loss: 0.0953 - val_accuracy: 0.9961\n",
      "Epoch 8/50\n",
      "1232/1232 [==============================] - 5s 4ms/step - loss: 0.1843 - accuracy: 0.9272 - val_loss: 0.2540 - val_accuracy: 0.9901\n",
      "Epoch 9/50\n",
      "1232/1232 [==============================] - 5s 4ms/step - loss: 0.1771 - accuracy: 0.9347 - val_loss: 0.1272 - val_accuracy: 0.9882\n",
      "Epoch 10/50\n",
      "1232/1232 [==============================] - 5s 4ms/step - loss: 0.1610 - accuracy: 0.9402 - val_loss: 0.1186 - val_accuracy: 0.9931\n",
      "Epoch 11/50\n",
      "1232/1232 [==============================] - 5s 4ms/step - loss: 0.1559 - accuracy: 0.9430 - val_loss: 0.1061 - val_accuracy: 0.9943\n",
      "Epoch 12/50\n",
      "1232/1232 [==============================] - 5s 4ms/step - loss: 0.1496 - accuracy: 0.9426 - val_loss: 0.1588 - val_accuracy: 0.9876\n",
      "Epoch 13/50\n",
      "1232/1232 [==============================] - 5s 4ms/step - loss: 0.1534 - accuracy: 0.9427 - val_loss: 0.1306 - val_accuracy: 0.9923\n",
      "Epoch 14/50\n",
      "1232/1232 [==============================] - 5s 4ms/step - loss: 0.1455 - accuracy: 0.9453 - val_loss: 0.0802 - val_accuracy: 0.9917\n",
      "Epoch 15/50\n",
      "1232/1232 [==============================] - 5s 4ms/step - loss: 0.1322 - accuracy: 0.9503 - val_loss: 0.1190 - val_accuracy: 0.9862\n",
      "Epoch 16/50\n",
      "1232/1232 [==============================] - 5s 4ms/step - loss: 0.1286 - accuracy: 0.9524 - val_loss: 0.0888 - val_accuracy: 0.9925\n",
      "Epoch 17/50\n",
      "1232/1232 [==============================] - 5s 4ms/step - loss: 0.1268 - accuracy: 0.9508 - val_loss: 0.1176 - val_accuracy: 0.9858\n",
      "Epoch 18/50\n",
      "1232/1232 [==============================] - 5s 4ms/step - loss: 0.1349 - accuracy: 0.9491 - val_loss: 0.1592 - val_accuracy: 0.9825\n",
      "Epoch 19/50\n",
      "1232/1232 [==============================] - 5s 4ms/step - loss: 0.1256 - accuracy: 0.9545 - val_loss: 0.1200 - val_accuracy: 0.9832\n",
      "Epoch 20/50\n",
      "1232/1232 [==============================] - 5s 4ms/step - loss: 0.1177 - accuracy: 0.9578 - val_loss: 0.1165 - val_accuracy: 0.9860\n",
      "Epoch 21/50\n",
      "1232/1232 [==============================] - 5s 4ms/step - loss: 0.1196 - accuracy: 0.9562 - val_loss: 0.1424 - val_accuracy: 0.9884\n",
      "Epoch 22/50\n",
      "1232/1232 [==============================] - 5s 4ms/step - loss: 0.1163 - accuracy: 0.9580 - val_loss: 0.1276 - val_accuracy: 0.9815\n",
      "Epoch 23/50\n",
      "1232/1232 [==============================] - 5s 4ms/step - loss: 0.1155 - accuracy: 0.9597 - val_loss: 0.1839 - val_accuracy: 0.9714\n",
      "Epoch 24/50\n",
      "1232/1232 [==============================] - 5s 4ms/step - loss: 0.1189 - accuracy: 0.9569 - val_loss: 0.1933 - val_accuracy: 0.9714\n",
      "Epoch 25/50\n",
      "1232/1232 [==============================] - 5s 4ms/step - loss: 0.1071 - accuracy: 0.9620 - val_loss: 0.1711 - val_accuracy: 0.9765\n",
      "Epoch 26/50\n",
      "1232/1232 [==============================] - 5s 4ms/step - loss: 0.1075 - accuracy: 0.9616 - val_loss: 0.2357 - val_accuracy: 0.9525\n",
      "Epoch 27/50\n",
      "1232/1232 [==============================] - 5s 4ms/step - loss: 0.1137 - accuracy: 0.9604 - val_loss: 0.2393 - val_accuracy: 0.9795\n",
      "Epoch 28/50\n",
      "1232/1232 [==============================] - 5s 4ms/step - loss: 0.1101 - accuracy: 0.9619 - val_loss: 0.1101 - val_accuracy: 0.9793\n",
      "Epoch 29/50\n",
      "1232/1232 [==============================] - 5s 4ms/step - loss: 0.0991 - accuracy: 0.9650 - val_loss: 0.1243 - val_accuracy: 0.9868\n",
      "Epoch 30/50\n",
      "1232/1232 [==============================] - 5s 4ms/step - loss: 0.1015 - accuracy: 0.9626 - val_loss: 0.2039 - val_accuracy: 0.9736\n",
      "Epoch 31/50\n",
      "1232/1232 [==============================] - 5s 4ms/step - loss: 0.1034 - accuracy: 0.9645 - val_loss: 0.2032 - val_accuracy: 0.9627\n",
      "Epoch 32/50\n",
      "1232/1232 [==============================] - 5s 4ms/step - loss: 0.0886 - accuracy: 0.9690 - val_loss: 0.1445 - val_accuracy: 0.9744\n",
      "Epoch 33/50\n",
      "1232/1232 [==============================] - 5s 4ms/step - loss: 0.0943 - accuracy: 0.9680 - val_loss: 0.1607 - val_accuracy: 0.9767\n",
      "Epoch 34/50\n",
      "1232/1232 [==============================] - 5s 4ms/step - loss: 0.0944 - accuracy: 0.9668 - val_loss: 0.1359 - val_accuracy: 0.9787\n",
      "Epoch 35/50\n",
      "1232/1232 [==============================] - 5s 4ms/step - loss: 0.0970 - accuracy: 0.9669 - val_loss: 0.1036 - val_accuracy: 0.9848\n",
      "Epoch 36/50\n",
      "1232/1232 [==============================] - 5s 4ms/step - loss: 0.0880 - accuracy: 0.9682 - val_loss: 0.1201 - val_accuracy: 0.9825\n",
      "Epoch 37/50\n",
      "1232/1232 [==============================] - 5s 4ms/step - loss: 0.0951 - accuracy: 0.9688 - val_loss: 0.0999 - val_accuracy: 0.9880\n",
      "Epoch 38/50\n",
      "1232/1232 [==============================] - 5s 4ms/step - loss: 0.0925 - accuracy: 0.9693 - val_loss: 0.1267 - val_accuracy: 0.9791\n",
      "Epoch 39/50\n",
      "1232/1232 [==============================] - 5s 4ms/step - loss: 0.0813 - accuracy: 0.9708 - val_loss: 0.2693 - val_accuracy: 0.9409\n",
      "Epoch 40/50\n",
      "1232/1232 [==============================] - 5s 4ms/step - loss: 0.0839 - accuracy: 0.9716 - val_loss: 0.1960 - val_accuracy: 0.9681\n",
      "Epoch 41/50\n",
      "1232/1232 [==============================] - 5s 4ms/step - loss: 0.0873 - accuracy: 0.9697 - val_loss: 0.1331 - val_accuracy: 0.9854\n",
      "Epoch 42/50\n",
      "1232/1232 [==============================] - 5s 4ms/step - loss: 0.0801 - accuracy: 0.9726 - val_loss: 0.1789 - val_accuracy: 0.9726\n",
      "Epoch 43/50\n",
      "1232/1232 [==============================] - 5s 4ms/step - loss: 0.0804 - accuracy: 0.9737 - val_loss: 0.1756 - val_accuracy: 0.9728\n",
      "Epoch 44/50\n",
      "1232/1232 [==============================] - 5s 4ms/step - loss: 0.0786 - accuracy: 0.9734 - val_loss: 0.1945 - val_accuracy: 0.9681\n",
      "Epoch 45/50\n",
      "1232/1232 [==============================] - 5s 4ms/step - loss: 0.0747 - accuracy: 0.9751 - val_loss: 0.2209 - val_accuracy: 0.9629\n",
      "Epoch 46/50\n",
      "1232/1232 [==============================] - 5s 4ms/step - loss: 0.0769 - accuracy: 0.9741 - val_loss: 0.2593 - val_accuracy: 0.9454\n",
      "Epoch 47/50\n",
      "1232/1232 [==============================] - 5s 4ms/step - loss: 0.1015 - accuracy: 0.9658 - val_loss: 0.1775 - val_accuracy: 0.9702\n",
      "Epoch 48/50\n",
      "1232/1232 [==============================] - 5s 4ms/step - loss: 0.0717 - accuracy: 0.9766 - val_loss: 0.1619 - val_accuracy: 0.9752\n",
      "Epoch 49/50\n",
      "1232/1232 [==============================] - 5s 4ms/step - loss: 0.0750 - accuracy: 0.9748 - val_loss: 0.1323 - val_accuracy: 0.9761\n",
      "Epoch 50/50\n",
      "1232/1232 [==============================] - 5s 4ms/step - loss: 0.0744 - accuracy: 0.9754 - val_loss: 0.2370 - val_accuracy: 0.9556\n"
     ]
    }
   ],
   "source": [
    "batch_size = 16 # \n",
    "epochs = 50 # \n",
    "\n",
    "# Maken van model\n",
    "model = create_cnn(odim=y_train_ohe.shape[1],\n",
    "                   img_rows = X_train.shape[1],\n",
    "                   img_cols = X_train.shape[2],\n",
    "                   img_chs = X_train.shape[3],\n",
    "                   dropout = 0.3,\n",
    "                   n_conv = 64,\n",
    "                   kernel_size = (3, 3),\n",
    "                   hidden_activation = 'relu',\n",
    "                   pool_size = (2, 2),\n",
    "                   batch_norm = 1,\n",
    "                   neurons = 40,\n",
    "                   final_activation = 'softmax',\n",
    "                   loss = 'categorical_crossentropy',\n",
    "                   optimizer = 'adam',\n",
    "                   metric = 'accuracy')\n",
    "\n",
    "# Trainen van het CNN\n",
    "history = model.fit(X_train, y_train_ohe,batch_size=batch_size, epochs=epochs, validation_split=0.2, verbose=1)"
   ]
  },
  {
   "cell_type": "code",
   "execution_count": 95,
   "metadata": {},
   "outputs": [
    {
     "data": {
      "image/png": "[encoded data removed]",
      "text/plain": [
       "<Figure size 1080x360 with 4 Axes>"
      ]
     },
     "metadata": {
      "needs_background": "light"
     },
     "output_type": "display_data"
    }
   ],
   "source": [
    "model_history(epochs, metric1='loss', metric2='accuracy')"
   ]
  },
  {
   "cell_type": "code",
   "execution_count": 96,
   "metadata": {},
   "outputs": [
    {
     "name": "stdout",
     "output_type": "stream",
     "text": [
      "\n",
      "\n",
      "              precision    recall  f1-score   support\n",
      "\n",
      "           0       0.92      0.96      0.94      3000\n",
      "           1       0.95      0.91      0.93      3000\n",
      "\n",
      "    accuracy                           0.94      6000\n",
      "   macro avg       0.94      0.94      0.94      6000\n",
      "weighted avg       0.94      0.94      0.94      6000\n",
      "\n",
      "Accuracy: \t93.53333333333333%\n",
      "\n"
     ]
    },
    {
     "data": {
      "image/png": "[encoded data removed]",
      "text/plain": [
       "<Figure size 432x288 with 2 Axes>"
      ]
     },
     "metadata": {
      "needs_background": "light"
     },
     "output_type": "display_data"
    },
    {
     "name": "stdout",
     "output_type": "stream",
     "text": [
      "\n",
      "\n"
     ]
    },
    {
     "data": {
      "image/png": "[encoded data removed]",
      "text/plain": [
       "<Figure size 432x288 with 1 Axes>"
      ]
     },
     "metadata": {
      "needs_background": "light"
     },
     "output_type": "display_data"
    },
    {
     "name": "stdout",
     "output_type": "stream",
     "text": [
      "\n",
      "\n"
     ]
    }
   ],
   "source": [
    "model_evaluation(estimator = model, \n",
    "                     y_test = y_test,\n",
    "                     X_test = X_test,\n",
    "                     output_dim = y_train_ohe.shape[1]\n",
    "                    )"
   ]
  },
  {
   "cell_type": "code",
   "execution_count": null,
   "metadata": {},
   "outputs": [],
   "source": [
    "# Conclusies\n",
    "\n",
    "\n"
   ]
  },
  {
   "cell_type": "markdown",
   "metadata": {},
   "source": [
    "### Transfer learning\n",
    "Hertrain het VGG19 netwerk (of optioneel ResNet) op de malaria dataset. Vergelijk de resultaten met deze van het eigen CNN in termen van accuraatheid, f1-score, snelheid van training, de benodigde hoeveelheid training data, etc.\n"
   ]
  },
  {
   "cell_type": "code",
   "execution_count": 4,
   "metadata": {},
   "outputs": [],
   "source": [
    "# Uitwerking transfer learning\n",
    "\n"
   ]
  },
  {
   "cell_type": "code",
   "execution_count": 6,
   "metadata": {},
   "outputs": [],
   "source": [
    "# Conclusies transfer learning\n",
    "\n"
   ]
  },
  {
   "cell_type": "markdown",
   "metadata": {},
   "source": [
    "## Facial expressions classification\n",
    "\n",
    "Het bestand (\"facial_expressions.csv\") bevat tienduizenden afbeeldingen met gezichtsexpressies.\n",
    "Elke grijsafbeelding is 48x48 pixels groot en behoort tot één van de volgende 7 klasses:\n",
    "(0=Boos, 1=Afkeer, 2=Bang, 3=Blij, 4=Verdrietig, 5=Verrast, 6=Neutraal)\n",
    "\n",
    "De dataset is verdeeld in drie stukken:\n",
    "1. 'Training' gebruikt voor training.\n",
    "2. 'PrivateTest' gebruikt voor testing.\n",
    "3. 'PublicTest' gebruikt voor evaluatie bij publieke competities (hier niet nodig).\n",
    "Je kan filteren via de 'USAGE' kolom\n",
    "\n",
    "Een bijkomende moeilijkheid is dat de pixelintensiteiten van een afbeelding als 1 string zijn opgeslagen gescheiden door een spatie. Je zal zelf deze string moeten opsplitsen in individuele pixels.\n",
    "\n",
    "- De bedoeling is om een zo performant mogelijke CNN te trainen in termen van accuracy.\n",
    "- Bekijk de confusion matrix. Zijn er expressies die meer of minder goed herkend worden?\n",
    "- Welke expressies worden het meest met elkaar verward. Baseer je ook hier op de confusion matrix.\n"
   ]
  },
  {
   "cell_type": "code",
   "execution_count": 9,
   "metadata": {},
   "outputs": [
    {
     "data": {
      "text/html": [
       "<div>\n",
       "<style scoped>\n",
       "    .dataframe tbody tr th:only-of-type {\n",
       "        vertical-align: middle;\n",
       "    }\n",
       "\n",
       "    .dataframe tbody tr th {\n",
       "        vertical-align: top;\n",
       "    }\n",
       "\n",
       "    .dataframe thead th {\n",
       "        text-align: right;\n",
       "    }\n",
       "</style>\n",
       "<table border=\"1\" class=\"dataframe\">\n",
       "  <thead>\n",
       "    <tr style=\"text-align: right;\">\n",
       "      <th></th>\n",
       "      <th>emotion</th>\n",
       "      <th>pixels</th>\n",
       "      <th>Usage</th>\n",
       "    </tr>\n",
       "  </thead>\n",
       "  <tbody>\n",
       "    <tr>\n",
       "      <th>35882</th>\n",
       "      <td>6</td>\n",
       "      <td>50 36 17 22 23 29 33 39 34 37 37 37 39 43 48 5...</td>\n",
       "      <td>PrivateTest</td>\n",
       "    </tr>\n",
       "    <tr>\n",
       "      <th>35883</th>\n",
       "      <td>3</td>\n",
       "      <td>178 174 172 173 181 188 191 194 196 199 200 20...</td>\n",
       "      <td>PrivateTest</td>\n",
       "    </tr>\n",
       "    <tr>\n",
       "      <th>35884</th>\n",
       "      <td>0</td>\n",
       "      <td>17 17 16 23 28 22 19 17 25 26 20 24 31 19 27 9...</td>\n",
       "      <td>PrivateTest</td>\n",
       "    </tr>\n",
       "    <tr>\n",
       "      <th>35885</th>\n",
       "      <td>3</td>\n",
       "      <td>30 28 28 29 31 30 42 68 79 81 77 67 67 71 63 6...</td>\n",
       "      <td>PrivateTest</td>\n",
       "    </tr>\n",
       "    <tr>\n",
       "      <th>35886</th>\n",
       "      <td>2</td>\n",
       "      <td>19 13 14 12 13 16 21 33 50 57 71 84 97 108 122...</td>\n",
       "      <td>PrivateTest</td>\n",
       "    </tr>\n",
       "  </tbody>\n",
       "</table>\n",
       "</div>"
      ],
      "text/plain": [
       "       emotion                                             pixels        Usage\n",
       "35882        6  50 36 17 22 23 29 33 39 34 37 37 37 39 43 48 5...  PrivateTest\n",
       "35883        3  178 174 172 173 181 188 191 194 196 199 200 20...  PrivateTest\n",
       "35884        0  17 17 16 23 28 22 19 17 25 26 20 24 31 19 27 9...  PrivateTest\n",
       "35885        3  30 28 28 29 31 30 42 68 79 81 77 67 67 71 63 6...  PrivateTest\n",
       "35886        2  19 13 14 12 13 16 21 33 50 57 71 84 97 108 122...  PrivateTest"
      ]
     },
     "execution_count": 9,
     "metadata": {},
     "output_type": "execute_result"
    }
   ],
   "source": [
    "dataset = pd.read_csv('./facial_expressions.csv')\n",
    "dataset.tail()"
   ]
  },
  {
   "cell_type": "markdown",
   "metadata": {},
   "source": [
    "## Car detection system\n",
    "\n",
    "De uiteindelijke bedoeling is om een werkende car detector te bouwen die in staat is om in een afbeelding (of video) auto's met een hoge accuraatheid te detecteren en er een bounding box omheen te tekenen, zoals op onderstaand voorbeeld.\n",
    "\n",
    "![alt text](./JupyterImages/cardetectionExample.png \"Title\")\n",
    "\n",
    "De opdracht kan in twee stukken opgedeeld worden:\n",
    "1. Trainen van een CNN voor het classificeren van auto's. \n",
    "2. Detectie van de auto's in een afbeelding door met een in grootte variërend window de afbeelding af te scannen en elke subafbeelding door de in stap 1 getrainde classifiër te sturen.\n",
    "\n"
   ]
  },
  {
   "cell_type": "markdown",
   "metadata": {},
   "source": [
    "### Stap 1. Car classifier\n",
    "\n",
    "De map \"vehicles\" bevat duizenden kleurafbeeldingen van auto's, de map \"non-vehicles\" van niet-auto's.\n",
    "\n",
    "- Maak van deze afbeeldingen gebruik om een accurate binaire CNN classifier (auto of niet-auto) te trainen. Bepaal daarbij zelf de architectuur, hyperparamters, grootte van test- en training set.\n",
    "\n",
    "- Hertrain het VGG19-net als car detector. Vergelijk de accuracy met de accuracy van het eigen ontworpen CNN.\n",
    "\n",
    "**Opmerkingen:**\n",
    "\n",
    "- Omwille van het groot aantal afbeeldingen is het inladen ervan vrij geheugenintensief. Daarom is het aan te raden maar een deel van de afbeeldingen te gebruiken. Achteraf kan je de dataset uitbreiden als jouw computer dat toelaat.\n",
    "- Normaliseer de afbeeldingen naar floats tussen 0 en 1.\n",
    "\n",
    "```Python\n",
    "X_car = X_car.astype('float32')`\n",
    "X_car /= 255```\n",
    "\n",
    "\n",
    "\n"
   ]
  },
  {
   "cell_type": "code",
   "execution_count": null,
   "metadata": {},
   "outputs": [],
   "source": [
    "# Uitwerking van de car classifier\n",
    "\n"
   ]
  },
  {
   "cell_type": "markdown",
   "metadata": {},
   "source": [
    "### Stap 2.  Sliding window detection\n",
    "\n",
    "Om nu een auto te detecteren in een grotere afbeelding (locatie van de auto in een foto) ga je als volgt te werk:\n",
    "Via een for loop kan je de afbeelding meerdere malen afscannen telkens met een in grootte varierend window. Classificeer nu telkens de subafbeelding die zich onder het window bevindt. Teken een bounding box rond de gedetecteerde auto.\n",
    "Gebruik als classifier ofwel het eigen CNN of de hertrainde VGG19 classifier.\n",
    "\n",
    "In de map \"StreetImages\" zitten enkele afbeeldingen die je kan gebruiken om de detector op los te laten\n",
    "\n",
    "Belangrijk is niet alleen te optimalizeren voor detectie accuraatheid maar ook naar **detectiesnelheid**.\n",
    "\n",
    "Voor het tekenen van de bounding box kan volgende code gebruikt worden:\n",
    "```python\n",
    "def rectangle_perimeter(r0, c0, width, height, shape=None, clip=False):\n",
    "    rr, cc = [r0, r0 + width, r0 + width, r0], [c0, c0, c0 + height, c0 + height]\n",
    "    return skimage.draw.polygon_perimeter(rr, cc, shape=shape, clip=clip)\n",
    "\n",
    "# tekenen van bounding box:\n",
    "rr, cc = rectangle_perimeter(y, x, w, w)\n",
    "image_detected[rr,cc] =255\n",
    "\n",
    "```\n",
    "\n",
    "Eenzelfde auto zal normaal gezien door meerdere boundingboxes aangeduid zijn. Zoek een manier om boundingboxes die heel dicht op elkaar liggen tot één enkele bounding box te herleiden.\n",
    "\n",
    "Een methode die in de praktijk dikwijls toepast wordt om redundantie boundingboxes te verwijderen is de Non-Maximum Suppression. Meer info is te vinden op https://www.pyimagesearch.com/2014/11/17/non-maximum-suppression-object-detection-python/\n",
    "Het is niet vereist deze non-maximum suppression bij deze opdracht toe te passen. \n"
   ]
  },
  {
   "cell_type": "code",
   "execution_count": 5,
   "metadata": {},
   "outputs": [],
   "source": [
    "# Uitwerking sliding window detection.\n",
    "\n"
   ]
  }
 ],
 "metadata": {
  "kernelspec": {
   "display_name": "Python 3 (ipykernel)",
   "language": "python",
   "name": "python3"
  },
  "language_info": {
   "codemirror_mode": {
    "name": "ipython",
    "version": 3
   },
   "file_extension": ".py",
   "mimetype": "text/x-python",
   "name": "python",
   "nbconvert_exporter": "python",
   "pygments_lexer": "ipython3",
   "version": "3.9.10"
  }
 },
 "nbformat": 4,
 "nbformat_minor": 4
}
